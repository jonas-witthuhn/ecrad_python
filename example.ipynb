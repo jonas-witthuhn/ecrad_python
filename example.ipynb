{
 "cells": [
  {
   "cell_type": "markdown",
   "metadata": {},
   "source": [
    "# Run ecRad with CAMS input data\n",
    "The cams data is downloaded as grib and converted to nc with:\n",
    "https://gitea.tropos.de/walther/retrieve_convert_camsra_camsfc\n",
    "in this example nc files are merged to monthly files instead of daily files\n",
    "\n",
    "The CAMS data is stored in two files surface parameters (sfc) and model level profile data (ml).\n",
    "Both files are required to produce the ecRad input file.\n",
    "\n",
    "Also ecrad is required obviously: https://github.com/ecmwf/ecrad\n",
    "\n",
    "Below the workflow from cams datafiles to an ecRad run is shown:"
   ]
  },
  {
   "cell_type": "code",
   "execution_count": 1,
   "metadata": {},
   "outputs": [],
   "source": [
    "# imports\n",
    "import os\n",
    "import datetime as dt\n",
    "import xarray as xr\n",
    "import numpy as np\n",
    "import matplotlib.pyplot as plt\n",
    "\n",
    "# custom modules\n",
    "import camsra2ecrad as c2e\n",
    "import run_ecrad as re\n",
    "# \n",
    "from CAMS_aerosol_props import load_cams_data as cams\n",
    "\n",
    "# config\n",
    "date = dt.date(2020,1,1) # day required\n",
    "\n",
    "# paths\n",
    "pf = \"example_data\"\n",
    "ncfile_path = \"example_data/nc\"\n",
    "infile_path = \"example_data/ecrad_input\"\n",
    "output_path = \"example_data/ecrad_output\"\n",
    "\n",
    "# path to ecrad installation\n",
    "# https://github.com/ecmwf/ecrad\n",
    "ecrad_path = ecpf = \"/home/walther/programms/ecrad-1.3.0\"\n",
    "# aerosol optical properties of cams aerosol\n",
    "# https://doi.org/10.24380/jgs8-sc58\n",
    "# have to be stored in <ecrad_path>/data/\n",
    "aerosol_props = \"aerosol_cams_ifs_optics.nc\"\n",
    "\n",
    "# filename templates\n",
    "infile_fname = \"input_{date:%Y-%m}.nc\"\n",
    "outfile_fname = \"output_{date:%Y-%m}.nc\"\n",
    "camsra_fname = \"cams-fc_{date:%Y-%m}_punta_{levtype}.nc\""
   ]
  },
  {
   "cell_type": "code",
   "execution_count": 2,
   "metadata": {},
   "outputs": [
    {
     "data": {
      "text/plain": [
       "0"
      ]
     },
     "execution_count": 2,
     "metadata": {},
     "output_type": "execute_result"
    }
   ],
   "source": [
    "# 1.step convert cams data to ECRAD input\n",
    "c2e.prepare_ecrad_input(date = date,\n",
    "                        ncpath = ncfile_path,\n",
    "                        outpath = infile_path, # outpath means path to store the produced input files\n",
    "                        sorce_tsi_fname = \"example_data/sorce_tsi_24hr_l3_full.csv\", # sorce is used to define extraterestial radiation\n",
    "                        outfile_fname_temp = infile_fname,\n",
    "                        camsra_fname_temp = camsra_fname)"
   ]
  },
  {
   "cell_type": "code",
   "execution_count": 3,
   "metadata": {},
   "outputs": [
    {
     "name": "stdout",
     "output_type": "stream",
     "text": [
      "<xarray.Dataset>\n",
      "Dimensions:                 (aerosol_type: 11, col: 2232, half_level: 138, level: 137, lw_emiss_band: 1, sw_albedo_band: 2)\n",
      "Coordinates:\n",
      "  * col                     (col) int64 0 1 2 3 4 5 ... 2227 2228 2229 2230 2231\n",
      "  * half_level              (half_level) int64 0 1 2 3 4 ... 133 134 135 136 137\n",
      "  * level                   (level) int64 0 1 2 3 4 5 ... 132 133 134 135 136\n",
      "  * aerosol_type            (aerosol_type) int64 0 1 2 3 4 5 6 7 8 9 10\n",
      "  * sw_albedo_band          (sw_albedo_band) int64 0 1\n",
      "  * lw_emiss_band           (lw_emiss_band) int64 0\n",
      "Data variables:\n",
      "    solar_irradiance        float64 ...\n",
      "    skin_temperature        (col) float32 ...\n",
      "    cos_solar_zenith_angle  (col) float64 ...\n",
      "    sw_albedo               (col, sw_albedo_band) float64 ...\n",
      "    sw_albedo_direct        (col, sw_albedo_band) float64 ...\n",
      "    lw_emissivity           (col, lw_emiss_band) float32 ...\n",
      "    pressure_hl             (col, half_level) float64 ...\n",
      "    temperature_hl          (col, half_level) float64 ...\n",
      "    h2o_mmr                 (col, level) float64 ...\n",
      "    o3_mmr                  (col, level) float64 ...\n",
      "    aerosol_mmr             (col, aerosol_type, level) float64 ...\n",
      "    time                    (col) datetime64[ns] ...\n",
      "    latitude                (col) float64 ...\n",
      "    longitude               (col) float64 ...\n"
     ]
    }
   ],
   "source": [
    "# 2. load ECRAD input file\n",
    "INFILE = xr.open_dataset(os.path.join(infile_path,infile_fname.format(date=date)))\n",
    "print(INFILE)"
   ]
  },
  {
   "cell_type": "code",
   "execution_count": 4,
   "metadata": {},
   "outputs": [
    {
     "name": "stdout",
     "output_type": "stream",
     "text": [
      "\n",
      "               &radiation_driver\n",
      "                do_parallel              = true,   ! Use OpenMP parallelization?\n",
      "                nblocksize               = 8,      ! Number of columns to process per thread\n",
      "                do_save_inputs           = false,  ! Save inputs in \"inputs.nc\"?\n",
      "                iverbose                 = 3,\n",
      "                istartcol                = 0,      ! Use full range of columns by default\n",
      "                iendcol                  = 0,\n",
      "                nrepeat                  = 1,\n",
      "                !\n",
      "                ! Override Input\n",
      "                h2o_scaling = 1,\n",
      "                co2_scaling = 1,\n",
      "                o3_scaling = 1,\n",
      "                !sw_albedo = 0,\n",
      "                /\n",
      "                !\n",
      "                &radiation\n",
      "                ! General----------------------------------------------------------------------\n",
      "                do_sw                   = true,           ! Compute shortwave fluxes?\n",
      "                do_lw                   = true,           ! Compute longwave fluxes?\n",
      "                do_sw_direct            = true,           ! Compute direct downward shortwave fluxes?\n",
      "                do_clear                = false,          ! Compute clear-sky fluxes?\n",
      "                directory_name          = \"/home/walther/programms/ecrad-1.3.0/data\",   ! Location of configuration files\n",
      "                !\n",
      "                sw_solver_name          = \"Cloudless\",    ! Solver\n",
      "                lw_solver_name          = \"Cloudless\",    ! Solver\n",
      "                gas_model_name          = \"RRTMG-IFS\",    ! Gas Model\n",
      "                !\n",
      "                iverbosesetup           = 4,              ! Verbosity in setup\n",
      "                iverbose                = 1,              ! Verbosity in execution\n",
      "                do_save_spectral_flux   = true,          ! Save flux profiles in each bands\n",
      "                do_save_gpoint_flux     = false,          ! Save flux profiles in each g-point\n",
      "                do_surface_sw_spectral_flux= true,        ! Save surface sw fluxes in each band for subsequent diagnostics\n",
      "                do_lw_derivatives       = false,          ! Compute derivatives for Hogan and Bozzo (2015) approximate updates\n",
      "                do_save_radiative_properties= false,      ! Write intermediate nc files for properties sent to solver\n",
      "                do_canopy_fluxes_sw     = false,          ! Save surface shortwave fluxes in each albedo interval\n",
      "                do_canopy_fluxes_lw     = false,          ! Save surface longwave fluxes in each emissivity interval\n",
      "                !\n",
      "                ! SURFACE ALBEDO and EMISSIVITY ----------------------------------------------\n",
      "                do_nearest_spectral_sw_albedo  = false,\n",
      "                sw_albedo_wavelength_bound(1:1) =  0.7e-6,\n",
      "                i_sw_albedo_index(1:2) \t\t= 1,2,\n",
      "                ! emissivity is  a boradband value, therefore input has only one dimension\n",
      "                do_nearest_spectral_lw_emiss \t= false,\n",
      "                lw_emiss_wavelength_bound(1:1)\t= 8.0e-6,\n",
      "                i_lw_emiss_index(1:2) \t\t= 1,1,\n",
      "                !\n",
      "                ! AEROSOL PROPERTIES----------------------------------------------------------\n",
      "                use_aerosols                = true,\n",
      "                do_lw_aerosol_scattering    = true,\n",
      "                aerosol_optics_override_file_name = \"aerosol_cams_ifs_optics.nc\",\n",
      "                n_aerosol_types             = 11,\n",
      "                i_aerosol_type_map          = -1, -2, -3, 1, 8, 6, -4, 10, 11 ,11, -5,\n",
      "                /\n",
      "                \n"
     ]
    }
   ],
   "source": [
    "# 3. make namfile ( ecRad config )\n",
    "namfile = re.make_namfile_str(ecrad_path = ecrad_path,\n",
    "                              optpropfile = aerosol_props,\n",
    "                              aerosol = True, # aerosol can be swiched on and off (True=with aerosol)\n",
    "                              albedo = True,  # surface albedo can be swiched on and off\n",
    "                              h2o_scale = 1,  # h2o,co2 and o3 can be scaled directly in ecRad\n",
    "                              co2_scale = 1,\n",
    "                              o3_scale = 1) \n",
    "\n",
    "print(namfile)"
   ]
  },
  {
   "cell_type": "code",
   "execution_count": 5,
   "metadata": {},
   "outputs": [
    {
     "name": "stdout",
     "output_type": "stream",
     "text": [
      "<xarray.Dataset>\n",
      "Dimensions:                         (lat: 3, lon: 3, time: 248, wvl_lw: 16, wvl_sw: 13)\n",
      "Coordinates:\n",
      "  * time                            (time) datetime64[ns] 2020-01-01T03:00:00...\n",
      "  * lat                             (lat) float64 -52.5 -53.0 -53.5\n",
      "  * lon                             (lon) float64 -71.0 -70.5 -70.0\n",
      "  * wvl_sw                          (wvl_sw) float32 3461.5386 ... 231.57895\n",
      "  * wvl_lw                          (wvl_lw) float32 514285.72 ... 3461.5386\n",
      "Data variables:\n",
      "    flux_dn_sw_toa                  (time, lat, lon) float32 0.0 ... 107.61202\n",
      "    flux_dn_sw_sfc                  (time, lat, lon) float32 0.0 ... 45.58175\n",
      "    flux_dn_direct_sw_sfc           (time, lat, lon) float32 0.0 ... 21.62374\n",
      "    flux_up_sw_toa                  (time, lat, lon) float32 0.0 ... 31.415323\n",
      "    flux_up_sw_sfc                  (time, lat, lon) float32 0.0 ... 4.558175\n",
      "    flux_dn_lw_toa                  (time, lat, lon) float32 0.0 0.0 ... 0.0 0.0\n",
      "    flux_dn_lw_sfc                  (time, lat, lon) float32 265.48615 ... 27...\n",
      "    flux_up_lw_toa                  (time, lat, lon) float32 288.7796 ... 285...\n",
      "    flux_up_lw_sfc                  (time, lat, lon) float32 360.11493 ... 36...\n",
      "    spectral_flux_dn_sw_toa         (time, lat, lon, wvl_sw) float32 0.0 ... ...\n",
      "    spectral_flux_dn_sw_sfc         (time, lat, lon, wvl_sw) float32 0.0 ... ...\n",
      "    spectral_flux_up_sw_toa         (time, lat, lon, wvl_sw) float32 0.0 ... ...\n",
      "    spectral_flux_up_sw_sfc         (time, lat, lon, wvl_sw) float32 0.0 ... ...\n",
      "    spectral_flux_dn_lw_toa         (time, lat, lon, wvl_lw) float32 0.0 ... 0.0\n",
      "    spectral_flux_dn_lw_sfc         (time, lat, lon, wvl_lw) float32 51.1722 ...\n",
      "    spectral_flux_up_lw_toa         (time, lat, lon, wvl_lw) float32 35.59985...\n",
      "    spectral_flux_up_lw_sfc         (time, lat, lon, wvl_lw) float32 51.07868...\n",
      "    spectral_flux_dn_direct_sw_sfc  (time, lat, lon, wvl_sw) float32 0.0 ... 0.0\n",
      "    spectral_flux_dn_direct_sw_toa  (time, lat, lon, wvl_sw) float32 0.0 ... ...\n",
      "    sza                             (time, lat, lon) float64 100.9 ... 85.61\n"
     ]
    }
   ],
   "source": [
    "# 4. run ECRAD \n",
    "# in the process temporary files for input, output and namfile will be created in the tmp folder \n",
    "OUTF = re.run_ecrad(inputfile=INFILE,\n",
    "                    namfile=namfile,\n",
    "                    outfile=os.path.join(output_path,outfile_fname.format(date=date)),\n",
    "                    reduce_out=True, # reduced out will store only TOA and SFC fluxes\n",
    "                    ecrad_path=os.path.join(ecrad_path,'bin/'), # \"bin\" extension is required as this path points to the ecrad executable\n",
    "                    opt_prop_file=aerosol_props)\n",
    "\n",
    "print(OUTF)"
   ]
  },
  {
   "cell_type": "code",
   "execution_count": 6,
   "metadata": {},
   "outputs": [],
   "source": [
    "# 5. ECRAD output to CAMS coordinates\n",
    "time = INFILE.time\n",
    "lat = INFILE.latitude\n",
    "lon  = INFILE.longitude\n",
    "\n",
    "lvlshape = (len(np.unique(time)),\n",
    "            len(np.unique(lat)),\n",
    "            len(np.unique(lon)))\n",
    "##################################################################\n",
    "# if reduce_nc = False\n",
    "# newshape = (lvlshape[0],\n",
    "#             len(OUTF.half_level),\n",
    "#             lvlshape[1],\n",
    "#             lvlshape[2])\n",
    "# F = np.zeros(newshape)\n",
    "# for l in range(len(OUTF.half_level)):\n",
    "#     F[:,l,:,:] = OUTF.flux_dn_lw.values[:,l].reshape(lvlshape)\n",
    "#################################################################\n",
    "# if reduce_nc = True\n",
    "newshape = (lvlshape[0],\n",
    "            lvlshape[1],\n",
    "            lvlshape[2])\n",
    "F = np.zeros(newshape)\n",
    "F[:,:,:] = OUTF.flux_dn_sw_sfc.values[:].reshape(lvlshape)\n"
   ]
  },
  {
   "cell_type": "code",
   "execution_count": 14,
   "metadata": {},
   "outputs": [],
   "source": [
    "# example of a full run with / without aerosol and altering the mu0 in the infile\n",
    "\n",
    "from scipy.special import roots_legendre\n",
    "qp, qw = roots_legendre(5)\n",
    "mu0s   = (qp+1.0)*0.5\n",
    "\n",
    "for date in [dt.date(2020,1,1)]:\n",
    "    INFILE = xr.open_dataset(os.path.join(infile_path,infile_fname.format(date=date)))\n",
    "    namfile = re.make_namfile_str(ecrad_path = ecrad_path,\n",
    "                                  optpropfile = aerosol_props,\n",
    "                                  aerosol=False)\n",
    "\n",
    "    _ = re.run_ecrad(inputfile = INFILE,\n",
    "                     namfile=namfile,\n",
    "                     outfile=f\"example_data/ecrad_output/output_noaerosol_{date:%Y-%m}.nc\",\n",
    "                     ecrad_path = os.path.join(ecrad_path,'bin/'),\n",
    "                     opt_prop_file=aerosol_props)\n",
    "\n",
    "    namfile = re.make_namfile_str(ecrad_path = ecrad_path,\n",
    "                                  optpropfile = aerosol_props,\n",
    "                                  aerosol=True)\n",
    "\n",
    "    _ = re.run_ecrad(inputfile = INFILE,\n",
    "                        namfile=namfile,\n",
    "                        outfile=f\"example_data/ecrad_output/output_aerosol_{date:%Y-%m}.nc\",\n",
    "                        ecrad_path = os.path.join(ecrad_path,'bin/'),\n",
    "                        opt_prop_file=aerosol_props)\n",
    "    for imu0,mu0 in enumerate(mu0s):\n",
    "        sfx = f'_mu0_{imu0}'\n",
    "        INFILE.cos_solar_zenith_angle.values = np.ones(len(INFILE.col))*mu0\n",
    "        namfile = re.make_namfile_str(ecrad_path = ecrad_path,\n",
    "                                      optpropfile = aerosol_props,\n",
    "                                      aerosol=False)\n",
    "\n",
    "        _ = re.run_ecrad(inputfile = INFILE,\n",
    "                            namfile=namfile,\n",
    "                            outfile=f\"example_data/ecrad_output/output_noaerosol_{date:%Y-%m}{sfx}.nc\",\n",
    "                            ecrad_path = os.path.join(ecrad_path,'bin/'),\n",
    "                            opt_prop_file=aerosol_props)\n",
    "\n",
    "        namfile = re.make_namfile_str(ecrad_path = ecrad_path,\n",
    "                                      optpropfile = aerosol_props,\n",
    "                                      aerosol=True)\n",
    "\n",
    "        _ = re.run_ecrad(inputfile = INFILE,\n",
    "                            namfile=namfile,\n",
    "                            outfile=f\"example_data/ecrad_output/output_aerosol_{date:%Y-%m}{sfx}.nc\",\n",
    "                            ecrad_path = os.path.join(ecrad_path,'bin/'),\n",
    "                            opt_prop_file=aerosol_props)\n"
   ]
  },
  {
   "cell_type": "markdown",
   "metadata": {},
   "source": [
    "# Use perturbations for sensitivity studies\n",
    "with the get_ecrad_ds function the input-file and the aerosol properties file can be perturbed by a relative amount ( perturbation in percent).\n",
    "below examples of the perturbation of mass_extinction and angström exponent\n"
   ]
  },
  {
   "cell_type": "code",
   "execution_count": 2,
   "metadata": {},
   "outputs": [
    {
     "data": {
      "text/plain": [
       "Text(0, 0.5, '$\\\\Delta$F [Wm-2]')"
      ]
     },
     "execution_count": 2,
     "metadata": {},
     "output_type": "execute_result"
    },
    {
     "data": {
      "image/png": "[encoded data removed]",
      "text/plain": [
       "<Figure size 432x288 with 1 Axes>"
      ]
     },
     "metadata": {
      "needs_background": "light"
     },
     "output_type": "display_data"
    }
   ],
   "source": [
    "INFILE = xr.open_dataset(os.path.join(infile_path,\n",
    "                                      infile_fname.format(date=date)))\n",
    "\n",
    "OUTF = re.get_ecrad_ds(ifile=INFILE,\n",
    "                       outfile = False,\n",
    "                       reduce_out = True,\n",
    "                       perturbation=[],\n",
    "                       aerosol=True,\n",
    "                       h2o_scale=1,\n",
    "                       o3_scale=1,\n",
    "                       co2_scale=1,\n",
    "                       time=False,\n",
    "                       ecrad_path = os.path.join(ecrad_path,'bin/'),\n",
    "                       opfile = aerosol_props,\n",
    "                       debug=False)\n",
    "\n",
    "## perturb mass extinction by +5%\n",
    "# OUT_perturbed = re.get_ecrad_ds(ifile=INFILE,\n",
    "#                        outfile = False,\n",
    "#                        reduce_out = True,\n",
    "#                        perturbation=[('mass_ext_sw_hydrophilic',((slice(None),slice(None),slice(None)),5.)),\n",
    "#                                     ('mass_ext_sw_hydrophobic',((slice(None),slice(None)),5.)),\n",
    "#                                     ('mass_ext_mono_hydrophilic',((slice(None),slice(None),slice(None)),5.)),\n",
    "#                                     ('mass_ext_mono_hydrophobic',((slice(None),slice(None)),5.))\n",
    "#                                     ],\n",
    "#                        aerosol=True,\n",
    "#                        h2o_scale=1,\n",
    "#                        o3_scale=1,\n",
    "#                        co2_scale=1,\n",
    "#                        time=False,\n",
    "#                        ecrad_path = os.path.join(ecrad_path,'bin/'),\n",
    "#                        opfile = aerosol_props,\n",
    "#                        debug=False)\n",
    "\n",
    "## perturb AE by +5%\n",
    "import AE_perturbation as perturbeAE\n",
    "perturbation = perturbeAE.perturbe_AE(OPfile=os.path.join(ecrad_path,'data/',aerosol_props),\n",
    "                                      pert=5)\n",
    "OUT_perturbed = re.get_ecrad_ds(ifile=INFILE,\n",
    "                       outfile = False,\n",
    "                       reduce_out = True,\n",
    "                       perturbation=perturbation,\n",
    "                       aerosol=True,\n",
    "                       h2o_scale=1,\n",
    "                       o3_scale=1,\n",
    "                       co2_scale=1,\n",
    "                       time=False,\n",
    "                       ecrad_path = os.path.join(ecrad_path,'bin/'),\n",
    "                       opfile = aerosol_props,\n",
    "                       debug=False)\n",
    "\n",
    "\n",
    "## convert to cams grid coordinates\n",
    "time = INFILE.time\n",
    "lat = INFILE.latitude\n",
    "lon  = INFILE.longitude\n",
    "\n",
    "lvlshape = (len(np.unique(time)),\n",
    "            len(np.unique(lat)),\n",
    "            len(np.unique(lon)))\n",
    "newshape = (lvlshape[0],\n",
    "            lvlshape[1],\n",
    "            lvlshape[2])\n",
    "\n",
    "# unperturbed surface irradiance\n",
    "F = np.zeros(newshape)\n",
    "F[:,:,:] = OUTF.flux_dn_sw_sfc.values[:].reshape(lvlshape)\n",
    "\n",
    "# perturbed surface irradaince\n",
    "F_perturbed = np.zeros(newshape)\n",
    "F_perturbed[:,:,:] = OUT_perturbed.flux_dn_sw_sfc.values.reshape(lvlshape)\n",
    "\n",
    "# plot the result\n",
    "plt.title('Influence of the perturbation on surface radiation')\n",
    "plt.plot(np.unique(time)[:10],F_perturbed[:10,0,0]-F[:10,0,0])\n",
    "plt.grid(True)\n",
    "plt.xlabel('time')\n",
    "plt.ylabel(r'$\\Delta$F [Wm-2]')"
   ]
  },
  {
   "cell_type": "code",
   "execution_count": 21,
   "metadata": {},
   "outputs": [
    {
     "data": {
      "text/plain": [
       "<function AE_perturbation.pertube_AE(OPfile, pert)>"
      ]
     },
     "execution_count": 21,
     "metadata": {},
     "output_type": "execute_result"
    }
   ],
   "source": [
    "perturbeAE.pertube_AE"
   ]
  }
 ],
 "metadata": {
  "kernelspec": {
   "display_name": "Python 3",
   "language": "python",
   "name": "python3"
  },
  "language_info": {
   "codemirror_mode": {
    "name": "ipython",
    "version": 3
   },
   "file_extension": ".py",
   "mimetype": "text/x-python",
   "name": "python",
   "nbconvert_exporter": "python",
   "pygments_lexer": "ipython3",
   "version": "3.7.0"
  }
 },
 "nbformat": 4,
 "nbformat_minor": 4
}
